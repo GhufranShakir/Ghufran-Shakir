{
  "nbformat": 4,
  "nbformat_minor": 0,
  "metadata": {
    "colab": {
      "provenance": [],
      "authorship_tag": "ABX9TyNk0cJhJWbXSS8+OLQYiZQP",
      "include_colab_link": true
    },
    "kernelspec": {
      "name": "python3",
      "display_name": "Python 3"
    },
    "language_info": {
      "name": "python"
    }
  },
  "cells": [
    {
      "cell_type": "markdown",
      "metadata": {
        "id": "view-in-github",
        "colab_type": "text"
      },
      "source": [
        "<a href=\"https://colab.research.google.com/github/GhufranShakir/Ghufran-Shakir/blob/main/Assignment_2.ipynb\" target=\"_parent\"><img src=\"https://colab.research.google.com/assets/colab-badge.svg\" alt=\"Open In Colab\"/></a>"
      ]
    },
    {
      "cell_type": "code",
      "execution_count": 1,
      "metadata": {
        "colab": {
          "base_uri": "https://localhost:8080/"
        },
        "id": "qom7lygJdtuH",
        "outputId": "e82be733-02f5-4183-dfbc-a9fab3945cbb"
      },
      "outputs": [
        {
          "output_type": "stream",
          "name": "stdout",
          "text": [
            "Vocabulary:  {'education': 1, 'is': 4, 'the': 8, 'pasport': 6, 'to': 10, 'future': 3, 'for': 2, 'tomorrow': 12, 'belongs': 0, 'those': 9, 'who': 13, 'prepare': 7, 'it': 5, 'today': 11}\n",
            "Encoded Document is:\n",
            "[[0 1 0 0 1 0 1 0 1 0 0 0 0 0]\n",
            " [0 0 1 1 0 0 0 0 1 0 1 0 1 0]\n",
            " [1 0 1 0 0 1 0 1 0 1 1 1 0 1]]\n"
          ]
        }
      ],
      "source": [
        "from sklearn.feature_extraction.text import CountVectorizer\n",
        "\n",
        "document = [\"Education is the pasport\",\n",
        "\t\t\t\"To the future for tomorrow\",\n",
        "\t\t\t\"Belongs to those who prepare for it today\"]\n",
        "\n",
        "# Create a Vectorizer Object\n",
        "vectorizer = CountVectorizer()\n",
        "\n",
        "vectorizer.fit(document)\n",
        "\n",
        "# Printing the identified Unique words along with their indices\n",
        "print(\"Vocabulary: \", vectorizer.vocabulary_)\n",
        "\n",
        "# Encode the Document\n",
        "vector = vectorizer.transform(document)\n",
        "\n",
        "# Summarizing the Encoded Texts\n",
        "print(\"Encoded Document is:\")\n",
        "print(vector.toarray())\n"
      ]
    }
  ]
}